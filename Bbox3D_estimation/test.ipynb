{
 "cells": [
  {
   "cell_type": "code",
   "execution_count": 1,
   "metadata": {},
   "outputs": [],
   "source": [
    "import os\n",
    "import glob\n",
    "import pickle\n",
    "import itertools\n",
    "import numpy as np\n",
    "from pathlib import Path\n",
    "import collections\n",
    "from matplotlib import pyplot as plt\n",
    "from plotting import plot_est_and_gt_ellipses_on_images, plot_3D_scene\n",
    "from lfd import compute_estimates, dual_quadric_to_ellipsoid_parameters"
   ]
  },
  {
   "cell_type": "code",
   "execution_count": 20,
   "metadata": {},
   "outputs": [],
   "source": [
    "# Utilities\n",
    "def read_list_poses(list):\n",
    "    for idx, file_path in enumerate(list):\n",
    "        with open(file_path) as f_input:\n",
    "            pose = np.transpose(np.loadtxt(f_input)[:3, :])\n",
    "            if idx == 0:\n",
    "                poses = pose\n",
    "            else:\n",
    "                poses = np.concatenate((poses, pose), axis=0)\n",
    "    return poses\n",
    "\n",
    "\n",
    "def read_list_box(list):\n",
    "    corpus = []\n",
    "    for file_path in list:\n",
    "        with open(file_path) as f_input:\n",
    "            line = f_input.read()\n",
    "            corpus.append([int(number) for number in line.split(\",\")])\n",
    "    return np.array(corpus)"
   ]
  },
  {
   "cell_type": "code",
   "execution_count": 30,
   "metadata": {},
   "outputs": [],
   "source": [
    "def sort_poses(pose_list):\n",
    "    files = {int(Path(file).stem) : file for file in pose_list}\n",
    "    ordered_dict = collections.OrderedDict(sorted(files.items()))\n",
    "    return ordered_dict.values()\n"
   ]
  },
  {
   "cell_type": "markdown",
   "metadata": {},
   "source": [
    "Load the input data.\n",
    "Data association is implicitly defined in the data structures: each column of \"visibility\" corresponds to one object.\n",
    "The information in \"bbs\" is structured in a similar way, with four columns for each object."
   ]
  },
  {
   "cell_type": "code",
   "execution_count": 31,
   "metadata": {},
   "outputs": [],
   "source": [
    "#dataset = \"Aldoma\"\n",
    "dataset = \"tiger\"\n",
    "\n",
    "save_output_images = True\n",
    "random_downsample = False\n",
    "\n",
    "if dataset != \"Aldoma\":\n",
    "    PATH = f\"data/{dataset}\"\n",
    "    box_list = glob.glob(os.path.join(os.getcwd(), f\"{PATH}/bounding_boxes\", \"*.txt\"))\n",
    "    raw_poses_list = glob.glob(os.path.join(os.getcwd(), f\"{PATH}/poses_ba\", \"*.txt\"))\n",
    "    poses_list = sort_poses(raw_poses_list)\n",
    "    intrinsics = f\"{PATH}/intrinsics.txt\"\n",
    "    bbs = read_list_box(box_list)\n",
    "    Ms_t = read_list_poses(poses_list)\n",
    "    visibility = np.ones((bbs.shape[0], 1))\n",
    "    with open(intrinsics) as f:\n",
    "        intr = f.readlines()\n",
    "        K = np.array(\n",
    "            [\n",
    "                [float(intr[0]), 0, float(intr[2])],\n",
    "                [0, float(intr[1]), float(intr[3])],\n",
    "                [0, 0, 1],\n",
    "            ]\n",
    "        )\n",
    "else:\n",
    "    bbs = np.load('data/{:s}/bounding_boxes.npy'.format(dataset))  \n",
    "    K = np.load('data/{:s}/intrinsics.npy'.format(dataset))\n",
    "    Ms_t = np.load('data/{:s}/camera_poses.npy'.format(dataset)) \n",
    "    visibility = np.load('data/{:s}/visibility.npy'.format(dataset)) "
   ]
  },
  {
   "cell_type": "markdown",
   "metadata": {},
   "source": [
    "Compute the number of frames and the number of objects for the current dataset from the size of the visibility matrix.\n"
   ]
  },
  {
   "cell_type": "code",
   "execution_count": 32,
   "metadata": {},
   "outputs": [],
   "source": [
    "n_frames, n_objects = visibility.shape\n",
    "[inputCs, estCs, estQs] = compute_estimates(bbs, K, Ms_t, visibility)\n",
    "Qs = estQs[0]"
   ]
  },
  {
   "cell_type": "code",
   "execution_count": 33,
   "metadata": {},
   "outputs": [],
   "source": [
    "def dual_quadric_to_ellipsoid_parameters(Q):\n",
    "    \"\"\"Computes centre, axes length and orientation of one ellipsoid.\n",
    "\n",
    "   A [4x4] matrix can represent general quadrics. In spite of preconditioning, the estimated quadrics can still,\n",
    "   in rare cases, represent something other than ellipsoids. This is corrected by forcing the lengths of the\n",
    "   axes to be positive.\n",
    "\n",
    "    :param Q: Ellipsoid/Quadric in dual form [4x4].\n",
    "\n",
    "    :returns:\n",
    "      - centre - Ellipsoid centre in Cartesian coordinates [3x1].\n",
    "      - axes - Length of ellipsoid axes [3x1].\n",
    "      - R - Orientation of the ellipsoid [3x3].\n",
    "    \"\"\"\n",
    "\n",
    "    # Scale the ellipsoid to put it in the usual form, with Q[3,3] = -1.\n",
    "    Q = Q / (-Q[3, 3])\n",
    "\n",
    "    # Compute ellipsoid centred on origin.\n",
    "    centre = -Q[:3, 3]\n",
    "    T = np.vstack((np.array((1, 0, 0, -centre[0])), np.array((0, 1, 0, -centre[1])),\n",
    "                   np.array((0, 0, 1, -centre[2])), np.array((0, 0, 0, 1))))\n",
    "    Qcent = T.dot(Q).dot(T.transpose())\n",
    "\n",
    "    # Compute axes and orientation.\n",
    "    [D, V] = np.linalg.eig(Qcent[:3, :3])\n",
    "    sort_ev = np.argsort(D)\n",
    "    V = np.vstack((V[:, sort_ev[0]], V[:, sort_ev[1]], V[:, sort_ev[2]])).transpose()\n",
    "    D.sort()\n",
    "    if sum(D < 0) > 0:\n",
    "        # Take the absolute value of eigenvalues (they can be negative because of numerical issues).\n",
    "        for index in range(D.shape[0]):\n",
    "            if D[index] < 0:\n",
    "                D[index] *= -1\n",
    "\n",
    "    a = np.sqrt(D[0])\n",
    "    b = np.sqrt(D[1])\n",
    "    c = np.sqrt(D[2])\n",
    "    \n",
    "    axes = np.array([a, b, c])\n",
    "    R = V\n",
    "    return centre, axes, R"
   ]
  },
  {
   "cell_type": "code",
   "execution_count": null,
   "metadata": {},
   "outputs": [],
   "source": []
  }
 ],
 "metadata": {
  "kernelspec": {
   "display_name": "Python 3.10.8 ('3D_bboxes')",
   "language": "python",
   "name": "python3"
  },
  "language_info": {
   "codemirror_mode": {
    "name": "ipython",
    "version": 3
   },
   "file_extension": ".py",
   "mimetype": "text/x-python",
   "name": "python",
   "nbconvert_exporter": "python",
   "pygments_lexer": "ipython3",
   "version": "3.10.8"
  },
  "orig_nbformat": 4,
  "vscode": {
   "interpreter": {
    "hash": "ae2a2fc053dd75ff215fc6b331c4b4cadd24c86a594b60902ee090c29bed2766"
   }
  }
 },
 "nbformat": 4,
 "nbformat_minor": 2
}
