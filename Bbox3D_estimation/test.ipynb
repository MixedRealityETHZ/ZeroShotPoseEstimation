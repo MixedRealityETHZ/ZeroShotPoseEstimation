{
 "cells": [
  {
   "cell_type": "code",
   "execution_count": null,
   "metadata": {},
   "outputs": [
    {
     "ename": "",
     "evalue": "",
     "output_type": "error",
     "traceback": [
      "\u001b[1;31mL'esecuzione di celle con 'Python 3.10.8 ('3D_bboxes')' richiede il pacchetto ipykernel.\n",
      "\u001b[1;31mEseguire il comando seguente per installare 'ipykernel' nell'ambiente Python. \n",
      "\u001b[1;31mComando: 'conda install -n 3D_bboxes ipykernel --update-deps --force-reinstall'"
     ]
    }
   ],
   "source": [
    "import pickle\n",
    "import numpy as np\n",
    "from matplotlib import pyplot as plt\n",
    "\n",
    "from lfd import compute_estimates\n",
    "from plotting import plot_est_and_gt_ellipses_on_images, plot_3D_scene"
   ]
  },
  {
   "cell_type": "code",
   "execution_count": 2,
   "metadata": {},
   "outputs": [],
   "source": [
    "dataset = 'tiger'"
   ]
  },
  {
   "cell_type": "markdown",
   "metadata": {},
   "source": [
    "Load the input data.\n",
    "Data association is implicitly defined in the data structures: each column of \"visibility\" corresponds to one object.\n",
    "The information in \"bbs\" is structured in a similar way, with four columns for each object."
   ]
  },
  {
   "cell_type": "code",
   "execution_count": 3,
   "metadata": {},
   "outputs": [],
   "source": [
    "bbs = np.load('Data/{:s}/InputData/bounding_boxes.npy'.format(dataset))\n",
    "K = np.load('Data/{:s}/InputData/intrinsics.npy'.format(dataset)) \n",
    "Ms_t = np.load('Data/{:s}/InputData/camera_poses.npy'.format(dataset))\n",
    "visibility = np.load('Data/{:s}/InputData/visibility.npy'.format(dataset))"
   ]
  },
  {
   "cell_type": "markdown",
   "metadata": {},
   "source": [
    "Compute the number of frames and the number of objects for the current dataset from the size of the visibility matrix.\n"
   ]
  },
  {
   "cell_type": "code",
   "execution_count": 4,
   "metadata": {},
   "outputs": [],
   "source": [
    "n_frames = visibility.shape[0]\n",
    "n_objects = visibility.shape[1]"
   ]
  },
  {
   "cell_type": "code",
   "execution_count": 5,
   "metadata": {},
   "outputs": [],
   "source": [
    "[inputCs, estCs, estQs] = compute_estimates(bbs, K, Ms_t, visibility)"
   ]
  },
  {
   "cell_type": "code",
   "execution_count": 6,
   "metadata": {},
   "outputs": [],
   "source": [
    "Qs = estQs[0]"
   ]
  },
  {
   "cell_type": "code",
   "execution_count": 9,
   "metadata": {},
   "outputs": [
    {
     "ename": "SyntaxError",
     "evalue": "invalid syntax (1777738030.py, line 1)",
     "output_type": "error",
     "traceback": [
      "\u001b[0;36m  Cell \u001b[0;32mIn [9], line 1\u001b[0;36m\u001b[0m\n\u001b[0;31m    import Ellipsoid from '@math.gl/geospatial';\u001b[0m\n\u001b[0m                     ^\u001b[0m\n\u001b[0;31mSyntaxError\u001b[0m\u001b[0;31m:\u001b[0m invalid syntax\n"
     ]
    }
   ],
   "source": [
    "def dual_quadric_to_ellipsoid_parameters(Q):\n",
    "    \"\"\"Computes centre, axes length and orientation of one ellipsoid.\n",
    "\n",
    "   A [4x4] matrix can represent general quadrics. In spite of preconditioning, the estimated quadrics can still,\n",
    "   in rare cases, represent something other than ellipsoids. This is corrected by forcing the lengths of the\n",
    "   axes to be positive.\n",
    "\n",
    "    :param Q: Ellipsoid/Quadric in dual form [4x4].\n",
    "\n",
    "    :returns:\n",
    "      - centre - Ellipsoid centre in Cartesian coordinates [3x1].\n",
    "      - axes - Length of ellipsoid axes [3x1].\n",
    "      - R - Orientation of the ellipsoid [3x3].\n",
    "    \"\"\"\n",
    "\n",
    "    # Scale the ellipsoid to put it in the usual form, with Q[3,3] = -1.\n",
    "    Q = Q / (-Q[3, 3])\n",
    "\n",
    "    # Compute ellipsoid centred on origin.\n",
    "    centre = -Q[:3, 3]\n",
    "    T = np.vstack((np.array((1, 0, 0, -centre[0])), np.array((0, 1, 0, -centre[1])),\n",
    "                   np.array((0, 0, 1, -centre[2])), np.array((0, 0, 0, 1))))\n",
    "    Qcent = T.dot(Q).dot(T.transpose())\n",
    "\n",
    "    # Compute axes and orientation.\n",
    "    [D, V] = np.linalg.eig(Qcent[:3, :3])\n",
    "    sort_ev = np.argsort(D)\n",
    "    V = np.vstack((V[:, sort_ev[0]], V[:, sort_ev[1]], V[:, sort_ev[2]])).transpose()\n",
    "    D.sort()\n",
    "    if sum(D < 0) > 0:\n",
    "        # Take the absolute value of eigenvalues (they can be negative because of numerical issues).\n",
    "        for index in range(D.shape[0]):\n",
    "            if D[index] < 0:\n",
    "                D[index] *= -1\n",
    "\n",
    "    a = np.sqrt(D[0])\n",
    "    b = np.sqrt(D[1])\n",
    "    c = np.sqrt(D[2])\n",
    "    \n",
    "    axes = np.array([a, b, c])\n",
    "    R = V\n",
    "    return centre, axes, R"
   ]
  }
 ],
 "metadata": {
  "kernelspec": {
   "display_name": "Python 3.10.8 ('3D_bboxes')",
   "language": "python",
   "name": "python3"
  },
  "language_info": {
   "codemirror_mode": {
    "name": "ipython",
    "version": 3
   },
   "file_extension": ".py",
   "mimetype": "text/x-python",
   "name": "python",
   "nbconvert_exporter": "python",
   "pygments_lexer": "ipython3",
   "version": "3.10.8"
  },
  "orig_nbformat": 4,
  "vscode": {
   "interpreter": {
    "hash": "ae2a2fc053dd75ff215fc6b331c4b4cadd24c86a594b60902ee090c29bed2766"
   }
  }
 },
 "nbformat": 4,
 "nbformat_minor": 2
}
