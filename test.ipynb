{
 "cells": [
  {
   "cell_type": "code",
   "execution_count": 1,
   "metadata": {},
   "outputs": [
    {
     "name": "stderr",
     "output_type": "stream",
     "text": [
      "/Users/PELLERITO/opt/anaconda3/envs/onepose-DSM_env/lib/python3.9/site-packages/tqdm/auto.py:22: TqdmWarning: IProgress not found. Please update jupyter and ipywidgets. See https://ipywidgets.readthedocs.io/en/stable/user_install.html\n",
      "  from .autonotebook import tqdm as notebook_tqdm\n"
     ]
    }
   ],
   "source": [
    "import glob\n",
    "import os\n",
    "from pathlib import Path\n",
    "import sys\n",
    "from tqdm import tqdm\n",
    "import cv2\n",
    "import numpy as np\n",
    "\n",
    "from src.utils import data_utils\n",
    "from deep_spectral_method.detection_2D_utils import UnsupBbox\n",
    "from bbox_3D_estimation.utils import sort_path_list, predict_3D_bboxes, read_list_poses\n",
    "from bbox_3D_estimation.plotting import plot_est_and_gt_ellipses_on_images, plot_3D_scene\n",
    "from bbox_3D_estimation.lfd import compute_estimates, dual_quadric_to_ellipsoid_parameters"
   ]
  },
  {
   "cell_type": "code",
   "execution_count": 2,
   "metadata": {},
   "outputs": [
    {
     "name": "stderr",
     "output_type": "stream",
     "text": [
      "Using cache found in /Users/PELLERITO/.cache/torch/hub/facebookresearch_dino_main\n"
     ]
    }
   ],
   "source": [
    "\n",
    "data_root = os.getcwd() + \"/data/onepose_datasets/tiger\"\n",
    "feature_dir = data_root + \"/DSM_features\"\n",
    "segment_dir = data_root + \"/tiger-annotate\"\n",
    "intriscs_path = segment_dir + \"/intrinsics.txt\"\n",
    "\n",
    "BboxPredictor = UnsupBbox(feature_dir=feature_dir)\n",
    "K, _ = data_utils.get_K(intriscs_path)\n",
    "\n",
    "poses_list = glob.glob(os.path.join(os.getcwd(), f\"{segment_dir}/poses\", \"*.txt\"))\n",
    "poses_list = sort_path_list(poses_list)\n",
    "img_lists = glob.glob(os.path.join(os.getcwd(), f\"{segment_dir}/color_full\", \"*.png\"))\n",
    "img_lists = sort_path_list(img_lists)"
   ]
  },
  {
   "cell_type": "code",
   "execution_count": null,
   "metadata": {},
   "outputs": [],
   "source": [
    "bbox3d = predict_3D_bboxes(\n",
    "    BboxPredictor=BboxPredictor,\n",
    "    img_lists=img_lists,\n",
    "    poses_list=poses_list,\n",
    "    K=K,\n",
    "    data_root=data_root,\n",
    "    step=1,\n",
    "    save_2d_bboxes=True\n",
    ")"
   ]
  },
  {
   "cell_type": "code",
   "execution_count": null,
   "metadata": {},
   "outputs": [],
   "source": [
    "box2d_path = data_root + '/box2d_corners.txt'\n",
    "bbox2d = np.loadtxt(box2d_path)\n"
   ]
  },
  {
   "cell_type": "code",
   "execution_count": null,
   "metadata": {},
   "outputs": [],
   "source": [
    "all_poses = read_list_poses(poses_list)\n",
    "plot_3D_scene(\n",
    "    Ms_t = all_poses, \n",
    "    points = bbox3d, \n",
    "    GT_points = None\n",
    ")"
   ]
  },
  {
   "cell_type": "code",
   "execution_count": null,
   "metadata": {},
   "outputs": [],
   "source": []
  }
 ],
 "metadata": {
  "kernelspec": {
   "display_name": "Python 3.9.13 ('onepose-DSM_env')",
   "language": "python",
   "name": "python3"
  },
  "language_info": {
   "codemirror_mode": {
    "name": "ipython",
    "version": 3
   },
   "file_extension": ".py",
   "mimetype": "text/x-python",
   "name": "python",
   "nbconvert_exporter": "python",
   "pygments_lexer": "ipython3",
   "version": "3.9.13"
  },
  "orig_nbformat": 4,
  "vscode": {
   "interpreter": {
    "hash": "7453624714dd782d6c3b40eb2b7579884c7f6e903c1876e47195bdc22855ae17"
   }
  }
 },
 "nbformat": 4,
 "nbformat_minor": 2
}
